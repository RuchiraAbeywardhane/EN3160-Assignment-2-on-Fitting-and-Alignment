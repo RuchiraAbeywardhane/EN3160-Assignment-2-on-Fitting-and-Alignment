{
 "cells": [
  {
   "cell_type": "code",
   "execution_count": 1,
   "metadata": {},
   "outputs": [
    {
     "ename": "ModuleNotFoundError",
     "evalue": "No module named 'circle_fit'",
     "output_type": "error",
     "traceback": [
      "\u001b[1;31m---------------------------------------------------------------------------\u001b[0m",
      "\u001b[1;31mModuleNotFoundError\u001b[0m                       Traceback (most recent call last)",
      "Cell \u001b[1;32mIn[1], line 5\u001b[0m\n\u001b[0;32m      3\u001b[0m \u001b[38;5;28;01mimport\u001b[39;00m \u001b[38;5;21;01mnumpy\u001b[39;00m \u001b[38;5;28;01mas\u001b[39;00m \u001b[38;5;21;01mnp\u001b[39;00m\n\u001b[0;32m      4\u001b[0m \u001b[38;5;28;01mimport\u001b[39;00m \u001b[38;5;21;01mmatplotlib\u001b[39;00m\u001b[38;5;21;01m.\u001b[39;00m\u001b[38;5;21;01mpyplot\u001b[39;00m \u001b[38;5;28;01mas\u001b[39;00m \u001b[38;5;21;01mplt\u001b[39;00m\n\u001b[1;32m----> 5\u001b[0m \u001b[38;5;28;01mimport\u001b[39;00m  \u001b[38;5;21;01mcircle_fit\u001b[39;00m \u001b[38;5;28;01mas\u001b[39;00m \u001b[38;5;21;01mcf\u001b[39;00m \n\u001b[0;32m      6\u001b[0m \u001b[38;5;28;01mimport\u001b[39;00m \u001b[38;5;21;01mtikzplotlib\u001b[39;00m\n\u001b[0;32m      8\u001b[0m np\u001b[38;5;241m.\u001b[39mrandom\u001b[38;5;241m.\u001b[39mseed(\u001b[38;5;241m0\u001b[39m)\n",
      "\u001b[1;31mModuleNotFoundError\u001b[0m: No module named 'circle_fit'"
     ]
    }
   ],
   "source": [
    "from scipy.optimize import minimize\n",
    "from scipy import linalg\n",
    "import numpy as np\n",
    "import matplotlib.pyplot as plt\n",
    "import  circle_fit as cf \n",
    "import tikzplotlib\n",
    "\n",
    "np.random.seed(0)\n",
    "\n",
    "N = 100\n",
    "half_n = N // 2\n",
    "r = 10\n",
    "x0_gt, y0_gt = 2, 3  # Center of the circle\n",
    "s = r / 16\n",
    "\n",
    "t = np.random.uniform(0, 2*np.pi, half_n)\n",
    "n = s * np.random.randn(half_n)\n",
    "x, y = x0_gt + (r + n) * np.cos(t), y0_gt + (r + n) * np.sin(t)\n",
    "\n",
    "X_circ = np.hstack((x.reshape(half_n, 1), y.reshape(half_n, 1)))\n",
    "\n",
    "s = 1.\n",
    "m, b = -1, 2\n",
    "x = np.linspace(-12, 12, half_n)\n",
    "y = m*x + b + s * np.random.randn(half_n)\n",
    "\n",
    "X_line = np.hstack((x.reshape(half_n, 1), y.reshape(half_n, 1)))\n",
    "\n",
    "X = np.vstack((X_circ, X_line))\n",
    "\n",
    "fig, ax = plt.subplots(1, 1, figsize=(8, 8))\n",
    "\n",
    "ax.scatter(X_line[:, 0], X_line[:, 1], label='Line')\n",
    "ax.scatter(X_circ[:, 0], X_circ[:, 1], label='Circle')\n",
    "\n",
    "circle_gt = plt.Circle((x0_gt, y0_gt), r, color='r', fill=False, label='Ground truth circle')\n",
    "ax.add_patch(circle_gt)\n",
    "ax.plot((x0_gt), (y0_gt), '+', color='b')\n",
    "\n",
    "x_min, x_max = ax.get_xlim()\n",
    "x_ = np.array([x_min, x_max])\n",
    "y_ = m * x_ + b\n",
    "plt.plot(x_, y_, color='b', label='Ground truth line')\n",
    "\n",
    "plt.legend()"
   ]
  }
 ],
 "metadata": {
  "kernelspec": {
   "display_name": "Python 3",
   "language": "python",
   "name": "python3"
  },
  "language_info": {
   "codemirror_mode": {
    "name": "ipython",
    "version": 3
   },
   "file_extension": ".py",
   "mimetype": "text/x-python",
   "name": "python",
   "nbconvert_exporter": "python",
   "pygments_lexer": "ipython3",
   "version": "3.12.6"
  }
 },
 "nbformat": 4,
 "nbformat_minor": 2
}
